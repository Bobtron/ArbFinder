{
 "cells": [
  {
   "cell_type": "code",
   "execution_count": 3,
   "metadata": {
    "collapsed": true
   },
   "outputs": [],
   "source": [
    "from pysbr import *\n",
    "from datetime import datetime"
   ]
  },
  {
   "cell_type": "code",
   "execution_count": 15,
   "metadata": {},
   "outputs": [
    {
     "data": {
      "text/plain": [
       "[{'scores': [],\n  'sport id': 2,\n  'league id': 2,\n  'season id': 25889,\n  'event id': 4210984,\n  'description': 'Manchester United FC@Arsenal FC',\n  'location': 'London',\n  'country': 'England',\n  'event status': 'scheduled',\n  'datetime': '2021-01-30T09:30:00-08:00',\n  'stadium type': 'Undefined',\n  'participants': [{'participant id': 49253,\n    'is home': True,\n    'source': {'name': 'Arsenal FC',\n     'nickname': '',\n     'short name': '',\n     'abbreviation': 'ARS',\n     'location': ''}},\n   {'participant id': 51786,\n    'is home': False,\n    'source': {'name': 'Manchester United FC',\n     'nickname': '',\n     'short name': '',\n     'abbreviation': 'MNU',\n     'location': ''}}],\n  'event group': {'event group id': 994,\n   'name': 'Premier League',\n   'alias': None}},\n {'scores': [],\n  'sport id': 2,\n  'league id': 2,\n  'season id': 25889,\n  'event id': 4210992,\n  'description': 'Fulham FC@West Bromwich Albion',\n  'location': 'West Bromwich',\n  'country': 'England',\n  'event status': 'scheduled',\n  'datetime': '2021-01-30T07:00:00-08:00',\n  'stadium type': 'Undefined',\n  'participants': [{'participant id': 25879,\n    'is home': False,\n    'source': {'name': 'Fulham FC',\n     'nickname': '',\n     'short name': '',\n     'abbreviation': 'FUL',\n     'location': ''}},\n   {'participant id': 65101,\n    'is home': True,\n    'source': {'name': 'West Bromwich Albion',\n     'nickname': '',\n     'short name': '',\n     'abbreviation': 'WBA',\n     'location': ''}}],\n  'event group': {'event group id': 994,\n   'name': 'Premier League',\n   'alias': None}},\n {'scores': [],\n  'sport id': 2,\n  'league id': 2,\n  'season id': 25889,\n  'event id': 4210990,\n  'description': 'Sheffield United FC@Manchester City FC',\n  'location': 'Melbourne',\n  'country': 'Australia',\n  'event status': 'scheduled',\n  'datetime': '2021-01-30T07:00:00-08:00',\n  'stadium type': 'Undefined',\n  'participants': [{'participant id': 17721,\n    'is home': False,\n    'source': {'name': 'Sheffield United FC',\n     'nickname': '',\n     'short name': '',\n     'abbreviation': 'SHU',\n     'location': ''}},\n   {'participant id': 49229,\n    'is home': True,\n    'source': {'name': 'Manchester City FC',\n     'nickname': '',\n     'short name': '',\n     'abbreviation': 'MNC',\n     'location': ''}}],\n  'event group': {'event group id': 994,\n   'name': 'Premier League',\n   'alias': None}},\n {'scores': [],\n  'sport id': 2,\n  'league id': 2,\n  'season id': 25889,\n  'event id': 4210988,\n  'description': 'Newcastle United FC@Everton FC',\n  'location': 'Liverpool',\n  'country': 'England',\n  'event status': 'scheduled',\n  'datetime': '2021-01-30T04:30:00-08:00',\n  'stadium type': 'Undefined',\n  'participants': [{'participant id': 49250,\n    'is home': False,\n    'source': {'name': 'Newcastle United FC',\n     'nickname': '',\n     'short name': '',\n     'abbreviation': 'NEW',\n     'location': ''}},\n   {'participant id': 49259,\n    'is home': True,\n    'source': {'name': 'Everton FC',\n     'nickname': '',\n     'short name': '',\n     'abbreviation': 'EVE',\n     'location': ''}}],\n  'event group': {'event group id': 994,\n   'name': 'Premier League',\n   'alias': None}},\n {'scores': [],\n  'sport id': 2,\n  'league id': 2,\n  'season id': 25889,\n  'event id': 4210975,\n  'description': 'Aston Villa FC@Burnley FC',\n  'location': 'Burnley',\n  'country': 'England',\n  'event status': 'scheduled',\n  'datetime': '2021-01-27T10:00:00-08:00',\n  'stadium type': 'Undefined',\n  'participants': [{'participant id': 49218,\n    'is home': True,\n    'source': {'name': 'Burnley FC',\n     'nickname': '',\n     'short name': '',\n     'abbreviation': 'BUR',\n     'location': ''}},\n   {'participant id': 65100,\n    'is home': False,\n    'source': {'name': 'Aston Villa FC',\n     'nickname': '',\n     'short name': '',\n     'abbreviation': 'VIL',\n     'location': ''}}],\n  'event group': {'event group id': 994,\n   'name': 'Premier League',\n   'alias': None}},\n {'scores': [],\n  'sport id': 2,\n  'league id': 2,\n  'season id': 25889,\n  'event id': 4210981,\n  'description': 'Arsenal FC@Southampton FC',\n  'location': 'Southampton',\n  'country': 'England',\n  'event status': 'scheduled',\n  'datetime': '2021-01-26T12:15:00-08:00',\n  'stadium type': 'Undefined',\n  'participants': [{'participant id': 49253,\n    'is home': False,\n    'source': {'name': 'Arsenal FC',\n     'nickname': '',\n     'short name': '',\n     'abbreviation': 'ARS',\n     'location': ''}},\n   {'participant id': 49256,\n    'is home': True,\n    'source': {'name': 'Southampton FC',\n     'nickname': '',\n     'short name': '',\n     'abbreviation': 'SOT',\n     'location': ''}}],\n  'event group': {'event group id': 994,\n   'name': 'Premier League',\n   'alias': None}},\n {'scores': [],\n  'sport id': 2,\n  'league id': 2,\n  'season id': 25889,\n  'event id': 4210978,\n  'description': 'Manchester City FC@West Bromwich Albion',\n  'location': 'West Bromwich',\n  'country': 'England',\n  'event status': 'scheduled',\n  'datetime': '2021-01-26T12:15:00-08:00',\n  'stadium type': 'Undefined',\n  'participants': [{'participant id': 49229,\n    'is home': False,\n    'source': {'name': 'Manchester City FC',\n     'nickname': '',\n     'short name': '',\n     'abbreviation': 'MNC',\n     'location': ''}},\n   {'participant id': 65101,\n    'is home': True,\n    'source': {'name': 'West Bromwich Albion',\n     'nickname': '',\n     'short name': '',\n     'abbreviation': 'WBA',\n     'location': ''}}],\n  'event group': {'event group id': 994,\n   'name': 'Premier League',\n   'alias': None}},\n {'scores': [],\n  'sport id': 2,\n  'league id': 2,\n  'season id': 25889,\n  'event id': 4210982,\n  'description': 'Liverpool FC@Tottenham Hotspur FC',\n  'location': 'London',\n  'country': 'England',\n  'event status': 'scheduled',\n  'datetime': '2021-01-28T12:00:00-08:00',\n  'stadium type': 'Undefined',\n  'participants': [{'participant id': 56251,\n    'is home': False,\n    'source': {'name': 'Liverpool FC',\n     'nickname': '',\n     'short name': '',\n     'abbreviation': 'LFC',\n     'location': ''}},\n   {'participant id': 56311,\n    'is home': True,\n    'source': {'name': 'Tottenham Hotspur FC',\n     'nickname': '',\n     'short name': '',\n     'abbreviation': 'TOT',\n     'location': ''}}],\n  'event group': {'event group id': 994,\n   'name': 'Premier League',\n   'alias': None}},\n {'scores': [],\n  'sport id': 2,\n  'league id': 2,\n  'season id': 25889,\n  'event id': 4210980,\n  'description': 'Leeds United@Newcastle United FC',\n  'location': 'Newcastle upon Tyne',\n  'country': 'England',\n  'event status': 'scheduled',\n  'datetime': '2021-01-26T10:00:00-08:00',\n  'stadium type': 'Undefined',\n  'participants': [{'participant id': 49246,\n    'is home': False,\n    'source': {'name': 'Leeds United',\n     'nickname': '',\n     'short name': '',\n     'abbreviation': 'LU',\n     'location': ''}},\n   {'participant id': 49250,\n    'is home': True,\n    'source': {'name': 'Newcastle United FC',\n     'nickname': '',\n     'short name': '',\n     'abbreviation': 'NEW',\n     'location': ''}}],\n  'event group': {'event group id': 994,\n   'name': 'Premier League',\n   'alias': None}},\n {'scores': [],\n  'sport id': 2,\n  'league id': 2,\n  'season id': 25889,\n  'event id': 4210979,\n  'description': 'Wolverhampton Wanderers FC@Chelsea FC',\n  'location': 'London',\n  'country': 'England',\n  'event status': 'scheduled',\n  'datetime': '2021-01-27T10:00:00-08:00',\n  'stadium type': 'Undefined',\n  'participants': [{'participant id': 49215,\n    'is home': False,\n    'source': {'name': 'Wolverhampton Wanderers FC',\n     'nickname': '',\n     'short name': '',\n     'abbreviation': 'WOL',\n     'location': ''}},\n   {'participant id': 49249,\n    'is home': True,\n    'source': {'name': 'Chelsea FC',\n     'nickname': '',\n     'short name': '',\n     'abbreviation': 'CFC',\n     'location': ''}}],\n  'event group': {'event group id': 994,\n   'name': 'Premier League',\n   'alias': None}},\n {'scores': [],\n  'sport id': 2,\n  'league id': 2,\n  'season id': 25889,\n  'event id': 4210977,\n  'description': 'Sheffield United FC@Manchester United FC',\n  'location': 'Manchester',\n  'country': 'England',\n  'event status': 'scheduled',\n  'datetime': '2021-01-27T12:15:00-08:00',\n  'stadium type': 'Undefined',\n  'participants': [{'participant id': 17721,\n    'is home': False,\n    'source': {'name': 'Sheffield United FC',\n     'nickname': '',\n     'short name': '',\n     'abbreviation': 'SHU',\n     'location': ''}},\n   {'participant id': 51786,\n    'is home': True,\n    'source': {'name': 'Manchester United FC',\n     'nickname': '',\n     'short name': '',\n     'abbreviation': 'MNU',\n     'location': ''}}],\n  'event group': {'event group id': 994,\n   'name': 'Premier League',\n   'alias': None}},\n {'scores': [],\n  'sport id': 2,\n  'league id': 2,\n  'season id': 25889,\n  'event id': 4210976,\n  'description': 'Leicester City FC@Everton FC',\n  'location': 'Liverpool',\n  'country': 'England',\n  'event status': 'scheduled',\n  'datetime': '2021-01-27T12:15:00-08:00',\n  'stadium type': 'Undefined',\n  'participants': [{'participant id': 49243,\n    'is home': False,\n    'source': {'name': 'Leicester City FC',\n     'nickname': '',\n     'short name': '',\n     'abbreviation': 'LEI',\n     'location': ''}},\n   {'participant id': 49259,\n    'is home': True,\n    'source': {'name': 'Everton FC',\n     'nickname': '',\n     'short name': '',\n     'abbreviation': 'EVE',\n     'location': ''}}],\n  'event group': {'event group id': 994,\n   'name': 'Premier League',\n   'alias': None}},\n {'scores': [],\n  'sport id': 2,\n  'league id': 2,\n  'season id': 25889,\n  'event id': 4210983,\n  'description': 'West Ham United FC@Crystal Palace FC',\n  'location': 'London',\n  'country': 'England',\n  'event status': 'scheduled',\n  'datetime': '2021-01-26T10:00:00-08:00',\n  'stadium type': 'Undefined',\n  'participants': [{'participant id': 49219,\n    'is home': True,\n    'source': {'name': 'Crystal Palace FC',\n     'nickname': '',\n     'short name': '',\n     'abbreviation': 'PAL',\n     'location': ''}},\n   {'participant id': 56337,\n    'is home': False,\n    'source': {'name': 'West Ham United FC',\n     'nickname': '',\n     'short name': '',\n     'abbreviation': 'WHU',\n     'location': ''}}],\n  'event group': {'event group id': 994,\n   'name': 'Premier League',\n   'alias': None}},\n {'scores': [],\n  'sport id': 2,\n  'league id': 2,\n  'season id': 25889,\n  'event id': 4210974,\n  'description': 'Fulham FC@Brighton & Hove Albion FC',\n  'location': 'Falmer',\n  'country': 'England',\n  'event status': 'scheduled',\n  'datetime': '2021-01-27T11:30:00-08:00',\n  'stadium type': 'Undefined',\n  'participants': [{'participant id': 25879,\n    'is home': False,\n    'source': {'name': 'Fulham FC',\n     'nickname': '',\n     'short name': '',\n     'abbreviation': 'FUL',\n     'location': ''}},\n   {'participant id': 49242,\n    'is home': True,\n    'source': {'name': 'Brighton & Hove Albion FC',\n     'nickname': '',\n     'short name': '',\n     'abbreviation': 'BHA',\n     'location': ''}}],\n  'event group': {'event group id': 994,\n   'name': 'Premier League',\n   'alias': None}},\n {'scores': [],\n  'sport id': 2,\n  'league id': 2,\n  'season id': 25889,\n  'event id': 4210987,\n  'description': 'Wolverhampton Wanderers FC@Crystal Palace FC',\n  'location': 'London',\n  'country': 'England',\n  'event status': 'scheduled',\n  'datetime': '2021-01-30T07:00:00-08:00',\n  'stadium type': 'Undefined',\n  'participants': [{'participant id': 49215,\n    'is home': False,\n    'source': {'name': 'Wolverhampton Wanderers FC',\n     'nickname': '',\n     'short name': '',\n     'abbreviation': 'WOL',\n     'location': ''}},\n   {'participant id': 49219,\n    'is home': True,\n    'source': {'name': 'Crystal Palace FC',\n     'nickname': '',\n     'short name': '',\n     'abbreviation': 'PAL',\n     'location': ''}}],\n  'event group': {'event group id': 994,\n   'name': 'Premier League',\n   'alias': None}},\n {'scores': [],\n  'sport id': 2,\n  'league id': 2,\n  'season id': 25889,\n  'event id': 4210991,\n  'description': 'Aston Villa FC@Southampton FC',\n  'location': 'Southampton',\n  'country': 'England',\n  'event status': 'scheduled',\n  'datetime': '2021-01-30T12:00:00-08:00',\n  'stadium type': 'Undefined',\n  'participants': [{'participant id': 49256,\n    'is home': True,\n    'source': {'name': 'Southampton FC',\n     'nickname': '',\n     'short name': '',\n     'abbreviation': 'SOT',\n     'location': ''}},\n   {'participant id': 65100,\n    'is home': False,\n    'source': {'name': 'Aston Villa FC',\n     'nickname': '',\n     'short name': '',\n     'abbreviation': 'VIL',\n     'location': ''}}],\n  'event group': {'event group id': 994,\n   'name': 'Premier League',\n   'alias': None}}]"
      ]
     },
     "execution_count": 15,
     "metadata": {},
     "output_type": "execute_result"
    }
   ],
   "source": [
    "dt = datetime.strptime('2021-1-26', '%Y-%m-%d')\n",
    "\n",
    "nfl = NFL()\n",
    "epl = EPL()\n",
    "sb = Sportsbook()\n",
    "\n",
    "# e = EventsByDate(epl.league_id, dt)\n",
    "# e.list()\n",
    "\n",
    "e = EventsByDateRange([epl.league_id], datetime.strptime('2021-1-26', '%Y-%m-%d'), datetime.strptime('2021-1-31', '%Y-%m-%d'))\n",
    "e.list()\n",
    "nfl.market_ids()"
   ]
  },
  {
   "cell_type": "code",
   "execution_count": 12,
   "metadata": {},
   "outputs": [
    {
     "name": "stdout",
     "output_type": "stream",
     "text": [
      "{3: ['5Dimes', 'Sportbet'], 5: ['Bet365'], 10: ['betcris', 'Bookmaker'], 83: ['BetMania'], 8: ['BetOnline', 'SportsBetting'], 28: ['BetPhoenix'], 108: ['BetRegal'], 9: ['Bodog Sportsbook', 'Bovada'], 93: ['Cloudbet'], 65: ['GTbets'], 44: ['Heritage Sports'], 29: ['Intertops'], 15: ['JazzSports'], 16: ['JustBet'], 18: ['Matchbook'], 82: ['MyBookie'], 20: ['Pinnacle'], 84: ['Skybook'], 35: ['Sports Interaction'], 54: ['WagerWeb'], 38: ['YouWager']}\n"
     ]
    }
   ],
   "source": [
    "print(sb.names)"
   ]
  },
  {
   "cell_type": "code",
   "execution_count": null,
   "metadata": {},
   "outputs": [],
   "source": []
  }
 ],
 "metadata": {
  "kernelspec": {
   "display_name": "Python 2",
   "language": "python",
   "name": "python2"
  },
  "language_info": {
   "codemirror_mode": {
    "name": "ipython",
    "version": 2
   },
   "file_extension": ".py",
   "mimetype": "text/x-python",
   "name": "python",
   "nbconvert_exporter": "python",
   "pygments_lexer": "ipython2",
   "version": "2.7.6"
  }
 },
 "nbformat": 4,
 "nbformat_minor": 0
}
